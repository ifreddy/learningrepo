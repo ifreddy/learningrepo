{
 "cells": [
  {
   "cell_type": "markdown",
   "metadata": {},
   "source": [
    "## Gym Members Exercise Dataset"
   ]
  },
  {
   "cell_type": "markdown",
   "metadata": {},
   "source": [
    "This is the Kaggle Dataset with the overview of gym members exercise routines, physical attributes, and fitness metrics.\n",
    "Here are the analysis I will check: \n",
    "- Nulls;\n",
    "- Duplicates;\n",
    "- Distribution of gender;\n",
    "- Distribution of age;\n",
    "- Distribution of age by gender;\n",
    "- Distribution of workout type;\n",
    "- Distribution of workout frequency;\n",
    "- Distribution of experience level;\n",
    "- Session duration;\n",
    "- Session duration for each gender;\n",
    "- Duration of each workout type session;\n",
    "- Relation between session duration and experience level;\n",
    "- Calories burned;\n",
    "- Calories burned by gender;\n",
    "- Relation between session duration and calories burned;\n",
    "- Relation between calories burned and experience level;"
   ]
  },
  {
   "cell_type": "markdown",
   "metadata": {},
   "source": [
    "#### Importing necessary libraries"
   ]
  },
  {
   "cell_type": "code",
   "execution_count": 1,
   "metadata": {},
   "outputs": [],
   "source": [
    "import pandas as pd\n",
    "\n",
    "from pandas import DataFrame"
   ]
  },
  {
   "cell_type": "markdown",
   "metadata": {},
   "source": [
    "#### Importing dataset"
   ]
  },
  {
   "cell_type": "code",
   "execution_count": null,
   "metadata": {},
   "outputs": [
    {
     "data": {
      "text/plain": [
       "0      3\n",
       "1      2\n",
       "2      2\n",
       "3      1\n",
       "4      1\n",
       "      ..\n",
       "968    3\n",
       "969    1\n",
       "970    3\n",
       "971    2\n",
       "972    1\n",
       "Name: Experience_Level, Length: 973, dtype: int64"
      ]
     },
     "execution_count": 4,
     "metadata": {},
     "output_type": "execute_result"
    }
   ],
   "source": [
    "df = pd.read_csv('gym_members_exercise_tracking.csv')"
   ]
  }
 ],
 "metadata": {
  "kernelspec": {
   "display_name": "Python 3",
   "language": "python",
   "name": "python3"
  },
  "language_info": {
   "codemirror_mode": {
    "name": "ipython",
    "version": 3
   },
   "file_extension": ".py",
   "mimetype": "text/x-python",
   "name": "python",
   "nbconvert_exporter": "python",
   "pygments_lexer": "ipython3",
   "version": "3.12.4"
  }
 },
 "nbformat": 4,
 "nbformat_minor": 2
}
