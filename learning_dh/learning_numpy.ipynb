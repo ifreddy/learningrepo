{
 "cells": [
  {
   "cell_type": "markdown",
   "id": "43103ef9",
   "metadata": {},
   "source": [
    "# Learning Numpy"
   ]
  },
  {
   "cell_type": "code",
   "execution_count": 25,
   "id": "f04141eb",
   "metadata": {},
   "outputs": [],
   "source": [
    "import numpy as np"
   ]
  },
  {
   "cell_type": "markdown",
   "id": "eb3a7efd",
   "metadata": {},
   "source": [
    "### Creating Arrays"
   ]
  },
  {
   "cell_type": "markdown",
   "id": "6be7fddb",
   "metadata": {},
   "source": [
    "<strong><ins>All arrays mentioned here are numpy arrays as long as opposite is not mentioned</ins></strong> please solve the problems with this knowledge."
   ]
  },
  {
   "cell_type": "markdown",
   "id": "471f6974",
   "metadata": {},
   "source": [
    "Create an array in size of 4*3 and assing it to arr variable "
   ]
  },
  {
   "cell_type": "code",
   "execution_count": 26,
   "id": "12801da8",
   "metadata": {},
   "outputs": [],
   "source": [
    "arr = np.empty((4,3))"
   ]
  },
  {
   "cell_type": "code",
   "execution_count": null,
   "id": "11f99c69",
   "metadata": {},
   "outputs": [],
   "source": []
  },
  {
   "cell_type": "markdown",
   "id": "c82af80c",
   "metadata": {},
   "source": [
    "Create an array with elements from 0 to 15 (both inclusive) and assing it to arr2 variable   \n",
    "Then print the shape of the arr2  \n",
    "copy the arr2 to arr2_copy  \n",
    "print arr2, arr2_copy   \n",
    "Change its shape to 4*4 and assign to itself   \n",
    "print arr2, arr2_copy again    "
   ]
  },
  {
   "cell_type": "code",
   "execution_count": 27,
   "id": "dd0fad30",
   "metadata": {},
   "outputs": [
    {
     "name": "stdout",
     "output_type": "stream",
     "text": [
      "first print, arr2 shape (16,)\n",
      "second print, arr2_copy (array([ 0,  1,  2,  3,  4,  5,  6,  7,  8,  9, 10, 11, 12, 13, 14, 15]), array([ 0,  1,  2,  3,  4,  5,  6,  7,  8,  9, 10, 11, 12, 13, 14, 15]))\n",
      "arr2 [ 0  1  2  3  4  5  6  7  8  9 10 11 12 13 14 15]\n",
      "arr2_copy\n",
      " [[ 0  1  2  3]\n",
      " [ 4  5  6  7]\n",
      " [ 8  9 10 11]\n",
      " [12 13 14 15]]\n"
     ]
    }
   ],
   "source": [
    "arr2 = np.arange(0, 16, 1)\n",
    "print(f\"first print, arr2 shape {arr2.shape}\")\n",
    "arr2_copy = arr2.copy()\n",
    "print(f\"second print, arr2_copy {arr2, arr2_copy}\")\n",
    "arr2_copy.resize(4,4)\n",
    "print(f\"arr2 {arr2}\")\n",
    "print(f\"arr2_copy\\n {arr2_copy}\")"
   ]
  },
  {
   "cell_type": "markdown",
   "id": "5c312718",
   "metadata": {},
   "source": [
    "### Some Functions "
   ]
  },
  {
   "cell_type": "markdown",
   "id": "4a6c4e92",
   "metadata": {},
   "source": [
    "##### How many dimentions there are in arr2 variable? "
   ]
  },
  {
   "cell_type": "code",
   "execution_count": 28,
   "id": "03c9544c",
   "metadata": {},
   "outputs": [
    {
     "name": "stdout",
     "output_type": "stream",
     "text": [
      "arr2 dimensions 1\n"
     ]
    }
   ],
   "source": [
    "print(f\"arr2 dimensions {arr2.ndim}\")"
   ]
  },
  {
   "cell_type": "markdown",
   "id": "0d24dc16",
   "metadata": {},
   "source": [
    "##### Describe the number of rows and columns in arr2 variable "
   ]
  },
  {
   "cell_type": "code",
   "execution_count": 29,
   "id": "e4c71e21",
   "metadata": {},
   "outputs": [
    {
     "name": "stdout",
     "output_type": "stream",
     "text": [
      "number of rows and columns (16,)\n"
     ]
    }
   ],
   "source": [
    "print(f\"number of rows and columns {arr2.shape}\")"
   ]
  },
  {
   "cell_type": "markdown",
   "id": "fb0109ad",
   "metadata": {},
   "source": [
    "##### How many elements there are in arr2 variable?"
   ]
  },
  {
   "cell_type": "code",
   "execution_count": 30,
   "id": "4f12ea1a",
   "metadata": {},
   "outputs": [
    {
     "name": "stdout",
     "output_type": "stream",
     "text": [
      "number of elements in arr2 16\n"
     ]
    }
   ],
   "source": [
    "print(f\"number of elements in arr2 {arr2.size}\")"
   ]
  },
  {
   "cell_type": "markdown",
   "id": "3fb5ef4e",
   "metadata": {},
   "source": [
    "##### Print the data type of arr2"
   ]
  },
  {
   "cell_type": "code",
   "execution_count": 31,
   "id": "a1e76cbb",
   "metadata": {},
   "outputs": [
    {
     "name": "stdout",
     "output_type": "stream",
     "text": [
      "data type of arr2 int64\n"
     ]
    }
   ],
   "source": [
    "print(f\"data type of arr2 {arr2.dtype}\")"
   ]
  },
  {
   "cell_type": "markdown",
   "id": "3d6dc446",
   "metadata": {},
   "source": [
    "#### Print the data location in the memory"
   ]
  },
  {
   "cell_type": "code",
   "execution_count": 32,
   "id": "b480c54e",
   "metadata": {},
   "outputs": [
    {
     "name": "stdout",
     "output_type": "stream",
     "text": [
      "data location in memory 28548432\n"
     ]
    }
   ],
   "source": [
    "print(f\"data location in memory {arr2.__array_interface__['data'][0]}\")"
   ]
  },
  {
   "cell_type": "markdown",
   "id": "f50930f0",
   "metadata": {},
   "source": [
    "### Some Statistics About the Arrays"
   ]
  },
  {
   "cell_type": "markdown",
   "id": "e2bd3bf5",
   "metadata": {},
   "source": [
    "#### Show 50th percentile of arr2"
   ]
  },
  {
   "cell_type": "code",
   "execution_count": 33,
   "id": "cf2ff1b6",
   "metadata": {},
   "outputs": [
    {
     "data": {
      "text/plain": [
       "np.float64(7.5)"
      ]
     },
     "execution_count": 33,
     "metadata": {},
     "output_type": "execute_result"
    }
   ],
   "source": [
    "np.percentile(arr2, 50)"
   ]
  },
  {
   "cell_type": "markdown",
   "id": "b94b76aa",
   "metadata": {},
   "source": [
    "#### Show mean of arr2 elements"
   ]
  },
  {
   "cell_type": "code",
   "execution_count": 34,
   "id": "26ebc870",
   "metadata": {},
   "outputs": [
    {
     "data": {
      "text/plain": [
       "np.float64(7.5)"
      ]
     },
     "execution_count": 34,
     "metadata": {},
     "output_type": "execute_result"
    }
   ],
   "source": [
    "np.mean(arr2)"
   ]
  },
  {
   "cell_type": "markdown",
   "id": "1ab10d37",
   "metadata": {},
   "source": [
    "#### Show median of arr2 elements"
   ]
  },
  {
   "cell_type": "code",
   "execution_count": 35,
   "id": "973b1ff7",
   "metadata": {},
   "outputs": [
    {
     "data": {
      "text/plain": [
       "np.float64(7.5)"
      ]
     },
     "execution_count": 35,
     "metadata": {},
     "output_type": "execute_result"
    }
   ],
   "source": [
    "np.median(arr2)"
   ]
  },
  {
   "cell_type": "markdown",
   "id": "7040730d",
   "metadata": {},
   "source": [
    "##### Create one dimensional normally distrubuted array with mean 3 standard deviation is 4 and has elements of 100"
   ]
  },
  {
   "cell_type": "code",
   "execution_count": 36,
   "id": "5e246a9f",
   "metadata": {},
   "outputs": [],
   "source": [
    "s = np.random.normal(loc=3, scale=4, size=100)"
   ]
  },
  {
   "cell_type": "markdown",
   "id": "5320324e",
   "metadata": {},
   "source": [
    "#### Install matplotlib library for ploting purposes and then plot the s \n",
    "- search to find how to do"
   ]
  },
  {
   "cell_type": "code",
   "execution_count": 37,
   "id": "a8ca4a2e",
   "metadata": {},
   "outputs": [
    {
     "data": {
      "image/png": "[encoded data removed]",
      "text/plain": [
       "<Figure size 640x480 with 1 Axes>"
      ]
     },
     "metadata": {},
     "output_type": "display_data"
    }
   ],
   "source": [
    "import matplotlib.pyplot as plt\n",
    "\n",
    "plt.hist(s, bins=20, density=True, alpha=0.6)\n",
    "plt.xlabel('Valori')\n",
    "plt.ylabel('Densità')\n",
    "plt.title('Distribution graph with Mean=3, Deviation=4')\n",
    "plt.show()"
   ]
  },
  {
   "cell_type": "markdown",
   "id": "f0ba30ab",
   "metadata": {},
   "source": [
    "____"
   ]
  }
 ],
 "metadata": {
  "kernelspec": {
   "display_name": "Python 3 (ipykernel)",
   "language": "python",
   "name": "python3"
  },
  "language_info": {
   "codemirror_mode": {
    "name": "ipython",
    "version": 3
   },
   "file_extension": ".py",
   "mimetype": "text/x-python",
   "name": "python",
   "nbconvert_exporter": "python",
   "pygments_lexer": "ipython3",
   "version": "3.12.3"
  }
 },
 "nbformat": 4,
 "nbformat_minor": 5
}
